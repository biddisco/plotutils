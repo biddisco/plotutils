{
 "cells": [
  {
   "cell_type": "code",
   "execution_count": null,
   "metadata": {
    "scrolled": true
   },
   "outputs": [],
   "source": [
    "import argparse\n",
    "import pandas as pd\n",
    "import numpy as np\n",
    "import matplotlib\n",
    "import matplotlib.pyplot as plt\n",
    "from matplotlib.ticker import MultipleLocator, FormatStrFormatter\n",
    "import itertools\n",
    "import os\n",
    "import importlib\n",
    "from IPython.display import Image, display, HTML\n",
    "import glob\n",
    "import importlib\n",
    "\n",
    "# get the path to this script\n",
    "import inspect\n",
    "scriptname = inspect.getframeinfo(inspect.currentframe()).filename\n",
    "scriptpath = os.path.dirname(os.path.abspath(scriptname))\n",
    "print('script root is',scriptpath)\n",
    "\n",
    "import sys\n",
    "print(sys.version)\n",
    "\n",
    "# make sure path to this utility is in PYTHONPATH\n",
    "import plotutils as pu"
   ]
  },
  {
   "cell_type": "markdown",
   "metadata": {},
   "source": [
    "### This will read the output of future_overhead --csv"
   ]
  },
  {
   "cell_type": "code",
   "execution_count": null,
   "metadata": {
    "scrolled": true
   },
   "outputs": [],
   "source": [
    "def read_future_overhead_csv(name):\n",
    "    print('Reading',name)\n",
    "    data = pd.read_csv(\n",
    "        name,\n",
    "        names=['futures', 'launch', 'sync', 'exec', 'time', 'ftime', 'sched', 'numa', 'threads', 'info'],\n",
    "        header=None,\n",
    "        comment='#',\n",
    "        sep='\\s*,\\s*', # regex to skip whitespace and use comma separator\n",
    "        engine='python',\n",
    "        skipinitialspace=True)\n",
    "\n",
    "    # Clean data : if less than 7 cols are not NaN, drop the row\n",
    "    data.dropna(thresh=7, inplace=True)\n",
    "    #title_print('File ' + name, data)\n",
    "    return data"
   ]
  },
  {
   "cell_type": "markdown",
   "metadata": {},
   "source": [
    "### Read a whole directory of files given hostname, root dir, prefix etc"
   ]
  },
  {
   "cell_type": "code",
   "execution_count": null,
   "metadata": {},
   "outputs": [],
   "source": [
    "def load_future_overhead_files(filenames, hostname, info):\n",
    "    alldata = pd.DataFrame()\n",
    "    for filename in filenames:\n",
    "        data = read_future_overhead_csv(filename)\n",
    "        # fill empty info NaN info columns with \"\"\n",
    "        data.fillna('', inplace=True)\n",
    "        if ('info' not in data) or (info!=''):\n",
    "            print('Setting info to', info)\n",
    "            data['info'] = info\n",
    "        data['date']     = date_str\n",
    "        data['hostname'] = hostname\n",
    "        alldata = pd.concat([alldata, data], sort=False)\n",
    "    return alldata\n",
    "\n",
    "def load_future_overhead_files_in_dir(data_root, date_str, prefix='', hostname='none', info=''):\n",
    "    alldata = pd.DataFrame()\n",
    "    dirname = os.path.join(data_root, date_str)\n",
    "    if prefix != '':\n",
    "        filenames = glob.glob(os.path.join(dirname, prefix + '*.txt'))\n",
    "        data = load_future_overhead_files(filenames, hostname, info)\n",
    "        alldata = pd.concat([alldata, data], sort=False)\n",
    "    else:\n",
    "        for m in ['ault', 'daint', 'tave', 'jb-s76', 'pop-os']:\n",
    "            filenames = glob.glob(os.path.join(dirname, m + '-*.txt'))\n",
    "            print('Calling load with hostname', m)\n",
    "            data = load_future_overhead_files(filenames, m, info)\n",
    "            alldata = pd.concat([alldata, data], sort=False)\n",
    "    pu.add_to_global_data(alldata, os.path.join(dirname, prefix))\n",
    "    return alldata"
   ]
  },
  {
   "cell_type": "markdown",
   "metadata": {},
   "source": [
    "### Force Reload plotutils (if you are editing it to add some new feature)"
   ]
  },
  {
   "cell_type": "code",
   "execution_count": null,
   "metadata": {},
   "outputs": [],
   "source": [
    "importlib.reload(pu);"
   ]
  },
  {
   "cell_type": "markdown",
   "metadata": {},
   "source": [
    "### Use this to delete all loaded data if necessary"
   ]
  },
  {
   "cell_type": "code",
   "execution_count": null,
   "metadata": {},
   "outputs": [],
   "source": [
    "def reset_data():\n",
    "    pu.global_dataframe = pd.DataFrame(\n",
    "        columns=['futures', 'launch', 'sync', 'exec', 'time', 'ftime', 'sched', 'numa', 'threads', 'info', 'date', 'hostname'])\n",
    "    pu.global_dataframe.index.name = 'index'\n",
    "    pu.global_datadict = {}\n",
    "\n",
    "reset_data()"
   ]
  },
  {
   "cell_type": "markdown",
   "metadata": {},
   "source": [
    "### Useful info about known machines"
   ]
  },
  {
   "cell_type": "code",
   "execution_count": null,
   "metadata": {
    "scrolled": false
   },
   "outputs": [],
   "source": [
    "machine_desc = {'ault'  :'Ault \\n (AMD EPYC 7501@2GHz) \\n 32x2-Cores (128 pu) \\n 8 numa',\n",
    "                'daint' :'Daint \\n (Xeon E5-2695v4@2.10GHz) \\n 18*2 Cores (72 pu) \\n 2 numa',\n",
    "                'tave'  :'Tave \\n KNL-Xeon-Phi 7230@1.30GHz \\n 64 Cores (256 pu) \\n 1 numa',\n",
    "                'jb-s76':'Laptop \\n 4 Cores (8 pu) \\n 1 numa',\n",
    "                'pop-os':'Laptop \\n i7-6700HQ@2.60GHz \\n 4 Cores (8 pu) \\n 1 numa'\n",
    "                }"
   ]
  },
  {
   "cell_type": "markdown",
   "metadata": {},
   "source": [
    "## Each directory contains a set of files per machine etc\n",
    "### display some plots, from two directories containing data for daint on 2 different days"
   ]
  },
  {
   "cell_type": "code",
   "execution_count": null,
   "metadata": {
    "scrolled": false
   },
   "outputs": [],
   "source": [
    "date_str = '2020-08-21'\n",
    "data_root = scriptpath # '/home/biddisco/benchmarking-results/future-overheads/'\n",
    "data = load_future_overhead_files_in_dir(data_root, date_str)\n",
    "pu.title_print('data for ' + date_str, data)\n",
    "\n",
    "# Plot all schedulers, using an empty row field gives a tiled display\n",
    "columns, rows = ['sched'], []\n",
    "select        = { 'numa':0, 'date':date_str, 'hostname':'daint'}\n",
    "plotvars      = {'x':'threads', 'y':'ftime', 'series':['launch','sync']}\n",
    "xparams       = pu.axis(label='Threads',  scale='linear', base=10)\n",
    "yparams       = pu.axis(label='Overhead $\\mu$s', format=lambda v,pos: '{0:.2f}'.format(v), limits=(0,1.5), scale='linear')\n",
    "cparams       = pu.rowcol(format=\n",
    "                    lambda t,v: str(t) + '\\n' + (str(v) if str(v)!='1' else date_str[:10]))\n",
    "rparams       = pu.rowcol(format=lambda t,v: machine_desc[v])\n",
    "fig = pu.plot_graph_series(data, rows, columns, select, plotvars, xparams, yparams, rparams=rparams, cparams=cparams, size=(6,6))"
   ]
  },
  {
   "cell_type": "code",
   "execution_count": null,
   "metadata": {
    "scrolled": false
   },
   "outputs": [],
   "source": [
    "date_str = '2020-08-25'\n",
    "data_root = scriptpath # '/home/biddisco/benchmarking-results/future-overheads/'\n",
    "data = load_future_overhead_files_in_dir(data_root, date_str)\n",
    "pu.title_print('', data)\n",
    "\n",
    "columns, rows = ['sched'], []\n",
    "select        = { 'numa':0, 'date':date_str, 'hostname':'daint'}\n",
    "plotvars      = {'x':'threads', 'y':'ftime', 'series':['launch','sync']}\n",
    "xparams       = pu.axis(label='Threads',  scale='linear', base=10)\n",
    "yparams       = pu.axis(label='Overhead $\\mu$s', format=lambda v,pos: '{0:.2f}'.format(v), limits=(0,1.5), scale='linear')\n",
    "cparams       = pu.rowcol(format=\n",
    "                    lambda t,v: str(t) + '\\n' + (str(v) if str(v)!='1' else date_str[:10]))\n",
    "rparams       = pu.rowcol(format=lambda t,v: machine_desc[v])\n",
    "fig = pu.plot_graph_series(data, rows, columns, select, plotvars, xparams, yparams, rparams=rparams, cparams=cparams, size=(8,6))"
   ]
  },
  {
   "cell_type": "code",
   "execution_count": null,
   "metadata": {
    "scrolled": false
   },
   "outputs": [],
   "source": [
    "# plot comparison of some data across dates\n",
    "rows, columns = ['sched'], ['launch']\n",
    "select   = {'numa':0, 'sync':['limiting-Exec','latch'], 'hostname':['pop-os','daint']}\n",
    "plotvars = {'x':'threads', 'y':'ftime', 'series':['sync','date']}\n",
    "xparams       = pu.axis(label='Threads',  scale='linear', base=10)\n",
    "yparams       = pu.axis(label='Overhead $\\mu$s', format=lambda v,pos: '{0:.2f}'.format(v), limits=(0,1.5), scale='linear')\n",
    "fig = pu.plot_graph_series(pu.global_dataframe, rows, columns, select, plotvars, xparams, yparams, size=(8,4))"
   ]
  },
  {
   "cell_type": "code",
   "execution_count": null,
   "metadata": {},
   "outputs": [],
   "source": []
  }
 ],
 "metadata": {
  "kernelspec": {
   "display_name": "Python 3",
   "language": "python",
   "name": "python3"
  },
  "language_info": {
   "codemirror_mode": {
    "name": "ipython",
    "version": 3
   },
   "file_extension": ".py",
   "mimetype": "text/x-python",
   "name": "python",
   "nbconvert_exporter": "python",
   "pygments_lexer": "ipython3",
   "version": "3.8.2"
  }
 },
 "nbformat": 4,
 "nbformat_minor": 2
}
