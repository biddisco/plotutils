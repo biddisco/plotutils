{
 "cells": [
  {
   "cell_type": "code",
   "execution_count": null,
   "metadata": {
    "scrolled": true
   },
   "outputs": [],
   "source": [
    "import argparse\n",
    "import pandas as pd\n",
    "import numpy as np\n",
    "import matplotlib\n",
    "import matplotlib.pyplot as plt\n",
    "from matplotlib.ticker import MultipleLocator, FormatStrFormatter\n",
    "import itertools\n",
    "import os\n",
    "import importlib\n",
    "from IPython.display import Image, display, HTML\n",
    "import glob\n",
    "import importlib\n",
    "import sys\n",
    "print(sys.version)\n",
    "\n",
    "# my modules in $HOME/src/python\n",
    "import plotutils as pu"
   ]
  },
  {
   "cell_type": "code",
   "execution_count": null,
   "metadata": {},
   "outputs": [],
   "source": [
    "if pu.is_notebook():\n",
    "    # this makes the notebook wider on a larger screen using %x of the display\n",
    "    display(HTML(\"<style>.container { width:100% !important; }</style>\"))\n",
    "    # save this notebook as a raw python file as well please\n",
    "    !jupyter nbconvert --to script ghex-jube-plot.ipynb\n",
    "    \n",
    "# Tell pandas to display more columns without wrapping in dataframe output\n",
    "pd.set_option('display.max_rows', 50)\n",
    "pd.set_option('display.max_columns', 10)\n",
    "pd.set_option('display.width', 1000)"
   ]
  },
  {
   "cell_type": "code",
   "execution_count": null,
   "metadata": {},
   "outputs": [],
   "source": [
    "# use this to reload the plotutils library (and reset any global vars)\n",
    "# if you modify the plotutils library - it must be reloaded\n",
    "importlib.reload(pu)"
   ]
  },
  {
   "cell_type": "code",
   "execution_count": null,
   "metadata": {
    "scrolled": false
   },
   "outputs": [],
   "source": [
    "machine_names = ['ault', 'daint', 'tave', 'jb-s76', 'pop-os']\n",
    "machine_desc = {'ault'  :'Ault \\n (AMD EPYC 7501@2GHz) \\n 32x2-Cores (128 pu) \\n 8 numa',\n",
    "                'daint' :'Daint \\n (Xeon E5-2695v4@2.10GHz) \\n 18*2 Cores (72 pu) \\n 2 numa',\n",
    "                'tave'  :'Tave \\n KNL-Xeon-Phi 7230@1.30GHz \\n 64 Cores (256 pu) \\n 1 numa',\n",
    "                'jb-s76':'Laptop \\n 4 Cores (8 pu) \\n 1 numa',\n",
    "                'pop-os':'Laptop \\n i7-6700HQ@2.60GHz \\n 4 Cores (8 pu) \\n 1 numa'\n",
    "                }\n",
    "\n",
    "ault_scale   = (0.0, 2.0)\n",
    "daint_scale  = (0.0, 2.0)\n",
    "tave_scale   = (0.6, 2.0)\n",
    "laptop_scale = (0.0, 1.5)"
   ]
  },
  {
   "cell_type": "code",
   "execution_count": null,
   "metadata": {
    "scrolled": true
   },
   "outputs": [],
   "source": [
    "# -------------------------------------------------\n",
    "# This will read a single CSV file into a dataframe\n",
    "# -------------------------------------------------\n",
    "def read_csv(name, column_names):\n",
    "    print('Reading',name)\n",
    "    data = pd.read_csv(\n",
    "        name,\n",
    "        names=column_names,\n",
    "        header=None,\n",
    "        skiprows=3,\n",
    "        comment='#',\n",
    "        sep='\\s*\\|\\s*', # regex to skip whitespace and use comma separator\n",
    "        engine='python',\n",
    "        index_col=False,\n",
    "        skipinitialspace=True)\n",
    "    # Clean data : if less than 7 cols are not NaN, drop the row\n",
    "    #data.dropna(thresh=7, inplace=True)\n",
    "    #pu.title_print('File ' + name, data)\n",
    "    return data\n",
    "\n",
    "# -------------------------------------------------\n",
    "# Loads several files and concats them into one dataframe\n",
    "# -------------------------------------------------\n",
    "def load_csv_files_in_dir(filenames, machine, info, column_names):\n",
    "    data = pd.DataFrame()\n",
    "    for filename in filenames :\n",
    "        data = pd.concat([data, read_csv(filename, column_names)], sort=False)\n",
    "    return data\n",
    "\n",
    "# -------------------------------------------------\n",
    "# read the jube generated files in a given dir\n",
    "# -------------------------------------------------\n",
    "def load_jube_files_in_dir(data_root, date_str, prefix='', hostname='none', info=''):\n",
    "    ext          = '.dat'\n",
    "    column_names = ['system', 'domain_size','gt_backend','transport','variant','taskspernode','domainthreads','ompthreads','nodes','colspersec','time']\n",
    "    alldata      = pd.DataFrame()\n",
    "    dirname      = os.path.join(data_root, date_str)\n",
    "    for m in machine_names:\n",
    "        filenames = glob.glob(os.path.join(dirname, m + '-*' + ext))\n",
    "        #print('Calling load with hostname', m, dirname)\n",
    "        data = load_csv_files_in_dir(filenames, m, info, column_names)\n",
    "        data['date']     = date_str\n",
    "        data['hostname'] = m        \n",
    "        alldata = pd.concat([alldata, data], sort=False)\n",
    "    pu.add_to_global_data(alldata, os.path.join(dirname, prefix))\n",
    "    return alldata"
   ]
  },
  {
   "cell_type": "code",
   "execution_count": null,
   "metadata": {},
   "outputs": [],
   "source": [
    "def reset_data():\n",
    "    pu.global_dataframe = pd.DataFrame(\n",
    "        columns=['futures', 'launch', 'sync', 'exec', 'time', 'ftime', 'sched', 'numa', 'threads', 'info', 'date', 'hostname'])\n",
    "    pu.global_dataframe.index.name = 'index'\n",
    "    pu.global_datadict = {}\n",
    "\n",
    "reset_data()"
   ]
  },
  {
   "cell_type": "code",
   "execution_count": null,
   "metadata": {
    "scrolled": false
   },
   "outputs": [],
   "source": [
    "date_str = '2020-02-18'\n",
    "data_root = '/home/biddisco/benchmarking-results/ghex/'\n",
    "data = load_jube_files_in_dir(data_root, date_str, 'daint-', 'daint')\n",
    "pu.title_print('', data)\n",
    "\n",
    "#\n",
    "# Weak scaling plot\n",
    "#\n",
    "columns, rows = ['transport'], ['taskspernode']\n",
    "select        = { 'date':date_str, 'variant':'mpi'}\n",
    "plotvars      = {'x':'nodes', 'y':'colspersec', 'series':['taskspernode', 'domain_size', 'domainthreads']}\n",
    "xparams       = pu.axis(label='Nodes',  scale='log', base=2)\n",
    "yparams       = pu.axis(label='colspersec', format=lambda v,pos: '{0:.2f}'.format(v), limits=(50000,200000), scale='linear', base=2)\n",
    "cparams       = pu.rowcol(format=lambda t,v: str(v))\n",
    "rparams       = pu.rowcol(format=lambda t,v: str(v))\n",
    "fig = pu.plot_graph_series(data, rows, columns, select, plotvars, xparams, yparams, rparams=rparams, cparams=cparams, size=(8,3))"
   ]
  },
  {
   "cell_type": "code",
   "execution_count": null,
   "metadata": {},
   "outputs": [],
   "source": []
  },
  {
   "cell_type": "code",
   "execution_count": null,
   "metadata": {},
   "outputs": [],
   "source": []
  }
 ],
 "metadata": {
  "kernelspec": {
   "display_name": "Python 3",
   "language": "python",
   "name": "python3"
  },
  "language_info": {
   "codemirror_mode": {
    "name": "ipython",
    "version": 3
   },
   "file_extension": ".py",
   "mimetype": "text/x-python",
   "name": "python",
   "nbconvert_exporter": "python",
   "pygments_lexer": "ipython3",
   "version": "3.7.5"
  }
 },
 "nbformat": 4,
 "nbformat_minor": 2
}
